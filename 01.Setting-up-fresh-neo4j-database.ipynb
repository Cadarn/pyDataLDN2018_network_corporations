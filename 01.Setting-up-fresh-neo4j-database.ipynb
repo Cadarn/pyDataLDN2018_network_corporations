{
 "cells": [
  {
   "cell_type": "markdown",
   "metadata": {},
   "source": [
    "# Initialising out new Neo4j database\n",
    "Getting started can we connect to our database and see some nodes etc? This notebook uses the native \"bolt\" driver produced by neo4j themselves to access and run commands."
   ]
  },
  {
   "cell_type": "code",
   "execution_count": 1,
   "metadata": {
    "collapsed": true
   },
   "outputs": [],
   "source": [
    "# We need the connection driver imported\n",
    "from neo4j.v1 import GraphDatabase"
   ]
  },
  {
   "cell_type": "code",
   "execution_count": 2,
   "metadata": {
    "collapsed": true
   },
   "outputs": [],
   "source": [
    "user = \"neo4j\"\n",
    "password = \"mypassword\"\n",
    "connection_path = \"bolt://xx.yy.z.a:35240\"\n",
    "driver = GraphDatabase.driver(connection_path, auth=(user, password))"
   ]
  },
  {
   "cell_type": "markdown",
   "metadata": {},
   "source": [
    "Now we can open a session connection to the database"
   ]
  },
  {
   "cell_type": "code",
   "execution_count": 3,
   "metadata": {
    "collapsed": true
   },
   "outputs": [],
   "source": [
    "session = driver.session()"
   ]
  },
  {
   "cell_type": "markdown",
   "metadata": {},
   "source": [
    "Now we can use the session to run a CYPHER query. We will count all the nodes and return it to a result object that we will then print."
   ]
  },
  {
   "cell_type": "code",
   "execution_count": 4,
   "metadata": {},
   "outputs": [
    {
     "name": "stdout",
     "output_type": "stream",
     "text": [
      "[{'COUNT(n)': 0}]\n"
     ]
    }
   ],
   "source": [
    "result = session.run(\"MATCH (n) RETURN COUNT(n);\")\n",
    "print(result.data())"
   ]
  },
  {
   "cell_type": "raw",
   "metadata": {},
   "source": [
    "Great, there is nothing there since it's a new database but we need to remember to close the session"
   ]
  },
  {
   "cell_type": "code",
   "execution_count": 5,
   "metadata": {
    "collapsed": true
   },
   "outputs": [],
   "source": [
    "session.close()"
   ]
  },
  {
   "cell_type": "markdown",
   "metadata": {},
   "source": [
    "## Let's put something into the database\n",
    "\n",
    "Let's play"
   ]
  },
  {
   "cell_type": "code",
   "execution_count": 6,
   "metadata": {
    "collapsed": true
   },
   "outputs": [],
   "source": [
    "session = driver.session()"
   ]
  },
  {
   "cell_type": "code",
   "execution_count": 7,
   "metadata": {
    "scrolled": false
   },
   "outputs": [
    {
     "name": "stdout",
     "output_type": "stream",
     "text": [
      "[{'n.name': 'Andres'}]\n",
      "[{'COUNT(n)': 1}]\n"
     ]
    }
   ],
   "source": [
    "result = session.run(\"CREATE (n:Person { name: 'Andres', title: 'Developer' }) RETURN n.name\")\n",
    "print(result.data())\n",
    "\n",
    "counts = session.run(\"MATCH (n) RETURN COUNT(n);\")\n",
    "print(counts.data())"
   ]
  },
  {
   "cell_type": "code",
   "execution_count": 8,
   "metadata": {
    "scrolled": true
   },
   "outputs": [
    {
     "name": "stdout",
     "output_type": "stream",
     "text": [
      "[{'p': <Path start=24 end=41 size=2>}]\n"
     ]
    }
   ],
   "source": [
    "query = \"CREATE p = \\\n",
    "        (andres:Person { name:'Andres' })-[:WORKS_AT]->(neo: Company {name: 'Neo4j'})<-[:WORKS_AT]-\\\n",
    "        (michael: Person { name: 'Michael' }) RETURN p\"\n",
    "result = session.run(query)\n",
    "print(result.data())"
   ]
  },
  {
   "cell_type": "code",
   "execution_count": 9,
   "metadata": {},
   "outputs": [
    {
     "name": "stdout",
     "output_type": "stream",
     "text": [
      "[{'COUNT(n)': 0}]\n"
     ]
    }
   ],
   "source": [
    "# This is an example query that deletes all nodes in the database \n",
    "# DO NOT UNCOMMENT unless you know what you are doing!\n",
    "session.run(\"MATCH (n) DETACH DELETE n;\")\n",
    "counts = session.run(\"MATCH (n) RETURN COUNT(n);\")\n",
    "print(counts.data())"
   ]
  },
  {
   "cell_type": "code",
   "execution_count": 10,
   "metadata": {
    "collapsed": true
   },
   "outputs": [],
   "source": [
    "session.close()"
   ]
  },
  {
   "cell_type": "markdown",
   "metadata": {},
   "source": [
    "# Setting up some constraints\n",
    "\n",
    "We know the design of the database that we intend to have, e.g. the node types and what will define if they are unique. Hence we can set up some contraints that will also inform the indexing of the database. We know we will have the following:\n",
    "\n",
    "- *Company* nodes with unique **uid**\n",
    "- *Country* nodes with unique **codes**\n",
    "- *Person* nodes with unique **uid**\n",
    "- *ControllingEntity* with unique **type**\n",
    "- *Postcode* with unique **uid**\n",
    "- *Statement* with unique **type**\n",
    "- *OtherEntity* with unique **uid**"
   ]
  },
  {
   "cell_type": "code",
   "execution_count": 11,
   "metadata": {
    "collapsed": true
   },
   "outputs": [],
   "source": [
    "session = driver.session()"
   ]
  },
  {
   "cell_type": "code",
   "execution_count": 12,
   "metadata": {},
   "outputs": [
    {
     "data": {
      "text/plain": [
       "<neo4j.v1.result.BoltStatementResult at 0x106b30400>"
      ]
     },
     "execution_count": 12,
     "metadata": {},
     "output_type": "execute_result"
    }
   ],
   "source": [
    "session.run(\"CREATE CONSTRAINT ON (n:Company) ASSERT n.uid IS UNIQUE;\")\n",
    "session.run(\"CREATE CONSTRAINT ON (n:Person) ASSERT n.uid IS UNIQUE;\")\n",
    "session.run(\"CREATE CONSTRAINT ON (n:Postcode) ASSERT n.uid IS UNIQUE;\")\n",
    "session.run(\"CREATE CONSTRAINT ON (n:Other_entity) ASSERT n.uid IS UNIQUE;\")\n",
    "session.run(\"CREATE CONSTRAINT ON (n:Country) ASSERT n.code IS UNIQUE;\")\n",
    "session.run(\"CREATE CONSTRAINT ON (n:ControllingEntity) ASSERT n.type IS UNIQUE;\")\n",
    "session.run(\"CREATE CONSTRAINT ON (n:Statement) ASSERT n.type IS UNIQUE;\")"
   ]
  },
  {
   "cell_type": "code",
   "execution_count": 13,
   "metadata": {
    "collapsed": true
   },
   "outputs": [],
   "source": [
    "session.close()"
   ]
  }
 ],
 "metadata": {
  "kernelspec": {
   "display_name": "Python 3",
   "language": "python",
   "name": "python3"
  },
  "language_info": {
   "codemirror_mode": {
    "name": "ipython",
    "version": 3
   },
   "file_extension": ".py",
   "mimetype": "text/x-python",
   "name": "python",
   "nbconvert_exporter": "python",
   "pygments_lexer": "ipython3",
   "version": "3.6.1"
  }
 },
 "nbformat": 4,
 "nbformat_minor": 2
}
